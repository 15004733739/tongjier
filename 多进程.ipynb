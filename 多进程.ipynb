{
 "cells": [
  {
   "cell_type": "code",
   "execution_count": 1,
   "metadata": {},
   "outputs": [
    {
     "name": "stdout",
     "output_type": "stream",
     "text": [
      "0.4791412353515625\n"
     ]
    }
   ],
   "source": [
    "# 多进程的库\n",
    "from multiprocessing import Process\n",
    "from random import randint          #导入随机库随机取整数\n",
    "from time import time, sleep        #导入time库\n",
    "import os                              #导入os库\n",
    "\n",
    "\n",
    "def download_task(filename):\n",
    "    print('开始下载%s' % filename)\n",
    "    time_to_download = randint(5, 10)\n",
    "    sleep(time_to_download)\n",
    "    print('%s 下载完成,经过%d秒' % (filename, time_to_download))\n",
    "\n",
    "\n",
    "def main():\n",
    "\n",
    "    start = time()\n",
    "    # 开启两个多进程，     函数名              传递的参数,需要注意的是,它接受的是一个元组(tuple)\n",
    "    p1 = Process(target=download_task, args=('论朱慧何时生孩子.mp4', ))\n",
    "    p2 = Process(target=download_task, args=('论计欣茹何时变瘦.mp5', ))\n",
    "    # 获取进程号\n",
    "\n",
    "    # 启动进程\n",
    "    p1.start()\n",
    "    p2.start()\n",
    "\n",
    "    ##############\n",
    "    # 进程阻塞.   进程阻塞作用：等阻塞的进程运行结束后再继续运行主进程也就是接下来的代码，结束运行本代码进程（主进程）\n",
    "    p1.join()         \n",
    "    p2.join()\n",
    "    ##############\n",
    "    end = time()\n",
    "    print(end - start)\n",
    "\n",
    "\n",
    "if __name__ == '__main__':\n",
    "    main()"
   ]
  },
  {
   "cell_type": "code",
   "execution_count": null,
   "metadata": {},
   "outputs": [],
   "source": []
  }
 ],
 "metadata": {
  "kernelspec": {
   "display_name": "Python 3",
   "language": "python",
   "name": "python3"
  },
  "language_info": {
   "codemirror_mode": {
    "name": "ipython",
    "version": 3
   },
   "file_extension": ".py",
   "mimetype": "text/x-python",
   "name": "python",
   "nbconvert_exporter": "python",
   "pygments_lexer": "ipython3",
   "version": "3.6.4"
  }
 },
 "nbformat": 4,
 "nbformat_minor": 2
}
