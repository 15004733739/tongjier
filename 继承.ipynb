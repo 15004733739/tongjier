{
 "cells": [
  {
   "cell_type": "code",
   "execution_count": null,
   "metadata": {},
   "outputs": [],
   "source": [
    "class fulei(object):\n",
    "    def __init__(self):\n",
    "        self.a=100\n",
    "        self.b=3\n",
    "    def _Sum(self):\n",
    "        Sum=self.a+self.b\n",
    "        print(Sum)\n",
    "\n",
    "class zilei(fulei):    #告诉fulei你要继承他的东西\n",
    "    def __init__(self):\n",
    "        fulei.__init__(self)#初始化父类\n",
    "        #super(zilei,self).__init__(self)  #和上面的代码一个效果，初始化父类\n",
    "        self.aa=200\n",
    "    def lala(self):\n",
    "        print(\"haha\")\n",
    "\n",
    "Zilei=zilei()\n",
    "print(Zilei.a)#通过子类继承父类中的a（私有变量不能被继承）如果使用访问器即可被继承\n",
    "        "
   ]
  },
  {
   "cell_type": "code",
   "execution_count": 2,
   "metadata": {},
   "outputs": [
    {
     "name": "stdout",
     "output_type": "stream",
     "text": [
      "300\n"
     ]
    }
   ],
   "source": [
    "##通过执行B类里的Print函数，调用并打印A类里的sum_函数\n",
    "class A(object):\n",
    "    def __init__(self):\n",
    "        self.a = 100\n",
    "        self.a1=200\n",
    "    def sum_(self):\n",
    "        SUM_ = self.a + self.a1\n",
    "        return SUM_\n",
    "\n",
    "class B(A):                  #告诉A你要继承他的东西\n",
    "    def __init__(self):      #这个init是B自身的\n",
    "        A.__init__(self)     #super(A,self).__init()   #这两条代码都是将A初始化\n",
    "    def Print(self):\n",
    "        res = self.sum_()     #用A里的sum_(),所以要继承A\n",
    "        print(res)\n",
    "        \n",
    "b=B()\n",
    "b.Print()    #通过执行B类里的Print函数，调用并打印A类里的sum_函数，\n",
    "             #所以要B要继承A"
   ]
  },
  {
   "cell_type": "code",
   "execution_count": 4,
   "metadata": {},
   "outputs": [
    {
     "name": "stdout",
     "output_type": "stream",
     "text": [
      "100\n"
     ]
    }
   ],
   "source": [
    "#通过调用B类,调用并打印A类中的joker_1\n",
    "class A(object):\n",
    "    def __init__(self):\n",
    "        self.joker_1=100\n",
    "    def A1(self):\n",
    "        print(\"A1\")\n",
    "class B(A):\n",
    "    def __init__(self):\n",
    "        A.__init__(self)\n",
    "        #super(B,self).__init__()\n",
    "        \n",
    "b=B()\n",
    "print(b.joker_1)  #通过调用B类,调用并打印A类中的joker_1"
   ]
  },
  {
   "cell_type": "code",
   "execution_count": 6,
   "metadata": {},
   "outputs": [
    {
     "name": "stdout",
     "output_type": "stream",
     "text": [
      "100\n"
     ]
    }
   ],
   "source": [
    "class A(object):\n",
    "    def __init__(self,a1,a2):\n",
    "        self.joker_1 = 100\n",
    "    def A1(self):\n",
    "        print(\"A1\")\n",
    "        \n",
    "class B(A):\n",
    "    def __init__(self,a1,a2,b1):       \n",
    "        A.__init__(self,a1,a2)        #初始化A\n",
    "        #super(B,self).__init__()\n",
    "        \n",
    "b = B(1000,10,0)    \n",
    "print(b.joker_1)   #通过调用B类,调用并打印A类中的joker_1"
   ]
  }
 ],
 "metadata": {
  "kernelspec": {
   "display_name": "Python 3",
   "language": "python",
   "name": "python3"
  },
  "language_info": {
   "codemirror_mode": {
    "name": "ipython",
    "version": 3
   },
   "file_extension": ".py",
   "mimetype": "text/x-python",
   "name": "python",
   "nbconvert_exporter": "python",
   "pygments_lexer": "ipython3",
   "version": "3.6.4"
  }
 },
 "nbformat": 4,
 "nbformat_minor": 2
}
