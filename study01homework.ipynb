{
 "cells": [
  {
   "cell_type": "markdown",
   "metadata": {},
   "source": [
    "1、五角数\n",
    "显示前100个五角数，每行显示10个"
   ]
  },
  {
   "cell_type": "code",
   "execution_count": 37,
   "metadata": {
    "collapsed": true
   },
   "outputs": [
    {
     "name": "stdout",
     "output_type": "stream",
     "text": [
      "1.0\n",
      "5.0\n",
      "12.0\n",
      "22.0\n",
      "35.0\n",
      "51.0\n",
      "70.0\n",
      "92.0\n",
      "117.0\n",
      "145.0\n",
      "176.0\n",
      "210.0\n",
      "247.0\n",
      "287.0\n",
      "330.0\n",
      "376.0\n",
      "425.0\n",
      "477.0\n",
      "532.0\n",
      "590.0\n",
      "651.0\n",
      "715.0\n",
      "782.0\n",
      "852.0\n",
      "925.0\n",
      "1001.0\n",
      "1080.0\n",
      "1162.0\n",
      "1247.0\n",
      "1335.0\n",
      "1426.0\n",
      "1520.0\n",
      "1617.0\n",
      "1717.0\n",
      "1820.0\n",
      "1926.0\n",
      "2035.0\n",
      "2147.0\n",
      "2262.0\n",
      "2380.0\n",
      "2501.0\n",
      "2625.0\n",
      "2752.0\n",
      "2882.0\n",
      "3015.0\n",
      "3151.0\n",
      "3290.0\n",
      "3432.0\n",
      "3577.0\n",
      "3725.0\n",
      "3876.0\n",
      "4030.0\n",
      "4187.0\n",
      "4347.0\n",
      "4510.0\n",
      "4676.0\n",
      "4845.0\n",
      "5017.0\n",
      "5192.0\n",
      "5370.0\n",
      "5551.0\n",
      "5735.0\n",
      "5922.0\n",
      "6112.0\n",
      "6305.0\n",
      "6501.0\n",
      "6700.0\n",
      "6902.0\n",
      "7107.0\n",
      "7315.0\n",
      "7526.0\n",
      "7740.0\n",
      "7957.0\n",
      "8177.0\n",
      "8400.0\n",
      "8626.0\n",
      "8855.0\n",
      "9087.0\n",
      "9322.0\n",
      "9560.0\n",
      "9801.0\n",
      "10045.0\n",
      "10292.0\n",
      "10542.0\n",
      "10795.0\n",
      "11051.0\n",
      "11310.0\n",
      "11572.0\n",
      "11837.0\n",
      "12105.0\n",
      "12376.0\n",
      "12650.0\n",
      "12927.0\n",
      "13207.0\n",
      "13490.0\n",
      "13776.0\n",
      "14065.0\n",
      "14357.0\n",
      "14652.0\n",
      "14950.0\n"
     ]
    }
   ],
   "source": [
    "sum = 0\n",
    "for i in range (1,101):\n",
    "    sum = i*(3*i-1)/2\n",
    "    print(sum)"
   ]
  },
  {
   "cell_type": "code",
   "execution_count": 1,
   "metadata": {},
   "outputs": [
    {
     "name": "stdout",
     "output_type": "stream",
     "text": [
      "*   \t*   \t*   \t*   \t*   \t*   \t*   \t*   \t*   \t*   \t\n",
      "*   \t*   \t*   \t*   \t*   \t*   \t*   \t*   \t*   \t*   \t\n",
      "*   \t*   \t*   \t*   \t*   \t*   \t*   \t*   \t*   \t*   \t\n",
      "*   \t*   \t*   \t*   \t*   \t*   \t*   \t*   \t*   \t*   \t\n",
      "*   \t*   \t*   \t*   \t*   \t*   \t*   \t*   \t*   \t*   \t\n",
      "*   \t*   \t*   \t*   \t*   \t*   \t*   \t*   \t*   \t*   \t\n",
      "*   \t*   \t*   \t*   \t*   \t*   \t*   \t*   \t*   \t*   \t\n",
      "*   \t*   \t*   \t*   \t*   \t*   \t*   \t*   \t*   \t*   \t\n",
      "*   \t*   \t*   \t*   \t*   \t*   \t*   \t*   \t*   \t*   \t\n",
      "*   \t*   \t*   \t*   \t*   \t*   \t*   \t*   \t*   \t*   \t\n"
     ]
    }
   ],
   "source": [
    "for j in range(0,10):\n",
    "    for i in range(0,10):\n",
    "        print('*   ',end='\\t')\n",
    "    print()"
   ]
  },
  {
   "cell_type": "code",
   "execution_count": 60,
   "metadata": {},
   "outputs": [
    {
     "name": "stdout",
     "output_type": "stream",
     "text": [
      "1\t5\t12\t22\t35\t51\t70\t92\t117\t145\n",
      "176\t210\t247\t287\t330\t376\t425\t477\t532\t590\n",
      "651\t715\t782\t852\t925\t1001\t1080\t1162\t1247\t1335\n",
      "1426\t1520\t1617\t1717\t1820\t1926\t2035\t2147\t2262\t2380\n",
      "2501\t2625\t2752\t2882\t3015\t3151\t3290\t3432\t3577\t3725\n",
      "3876\t4030\t4187\t4347\t4510\t4676\t4845\t5017\t5192\t5370\n",
      "5551\t5735\t5922\t6112\t6305\t6501\t6700\t6902\t7107\t7315\n",
      "7526\t7740\t7957\t8177\t8400\t8626\t8855\t9087\t9322\t9560\n",
      "9801\t10045\t10292\t10542\t10795\t11051\t11310\t11572\t11837\t12105\n",
      "12376\t12650\t12927\t13207\t13490\t13776\t14065\t14357\t14652\t14950\n"
     ]
    }
   ],
   "source": [
    "def getPentagonalNumber(n):\n",
    "    c = int(n*(3*n-1)/2)\n",
    "    if n%10 !=0:\n",
    "        print(c,end='\\t')#\\t表示空四个字符，也称缩进，相当于按一下Tab键 \\n表示换行，相当于按一下回车 \\n\\t表示换行加每行空四格\n",
    "    else:\n",
    "        print(c)\n",
    "        \n",
    "for i in range(1,101):\n",
    "    getPentagonalNumber(i)"
   ]
  },
  {
   "cell_type": "markdown",
   "metadata": {},
   "source": [
    "2、计算一个整数各个位数的和"
   ]
  },
  {
   "cell_type": "code",
   "execution_count": 10,
   "metadata": {},
   "outputs": [
    {
     "name": "stdout",
     "output_type": "stream",
     "text": [
      "请输入一个整数：5\n"
     ]
    },
    {
     "data": {
      "text/plain": [
       "5"
      ]
     },
     "execution_count": 10,
     "metadata": {},
     "output_type": "execute_result"
    }
   ],
   "source": [
    "def sumDigits(n):\n",
    "    g=n%10\n",
    "    s=n//10%10\n",
    "    b=n//100\n",
    "    sum = b+s+g\n",
    "    return sum\n",
    "n = int(input(\"请输入一个整数：\"))\n",
    "sumDigits(n)\n",
    "    \n",
    "    "
   ]
  },
  {
   "cell_type": "markdown",
   "metadata": {},
   "source": [
    "3、输入三个数，升序排序"
   ]
  },
  {
   "cell_type": "code",
   "execution_count": 20,
   "metadata": {},
   "outputs": [
    {
     "name": "stdout",
     "output_type": "stream",
     "text": [
      "Enter three numbers: 2 1 3\n",
      "The sorted number are: 1 2 3\n"
     ]
    }
   ],
   "source": [
    "\n",
    "def displaySortedNumbers(num1,num2,num3):\n",
    "    print(\"Enter three numbers:\",num1,num2,num3)\n",
    "    if num1<=num2 and num1<=num3:\n",
    "        if num2<=num3:\n",
    "            print(\"The sorted number are:\",num1,num2,num3)\n",
    "        else:\n",
    "            print(\"The sorted number are:\",num1,num3,num2)\n",
    "    elif num1<=num2 and num1>num3:\n",
    "        print(\"The sorted number are:\",num3,num1,num2)\n",
    "    elif num1>num2 and num1>num3:\n",
    "        if num2>=num3:\n",
    "            print(\"The sorted number are:\",num3,num2,num1)\n",
    "        else:\n",
    "            print(\"The sorted number are:\",num2,num3,num1)\n",
    "    else:\n",
    "        print(\"The sorted number are:\",num2,num1,num3)\n",
    "displaySortedNumbers(2,1,3 )"
   ]
  },
  {
   "cell_type": "markdown",
   "metadata": {},
   "source": [
    "4、编写一个程序提示用户输入投资额和百分比格式的年利率，然后输出一份表格显示\n",
    "年份从1到30年的未来值。"
   ]
  },
  {
   "cell_type": "code",
   "execution_count": 11,
   "metadata": {},
   "outputs": [
    {
     "name": "stdout",
     "output_type": "stream",
     "text": [
      "1 10900.0\n",
      "2 11881.0\n",
      "3 12950.29\n",
      "4 14115.8161\n",
      "5 15386.239549\n",
      "6 16771.00110841\n",
      "7 18280.3912081669\n",
      "8 19925.62641690192\n",
      "9 21718.932794423094\n",
      "10 23673.636745921172\n",
      "11 25804.264053054078\n",
      "12 28126.647817828944\n",
      "13 30658.04612143355\n",
      "14 33417.27027236257\n",
      "15 36424.8245968752\n",
      "16 39703.05881059397\n",
      "17 43276.33410354742\n",
      "18 47171.20417286669\n",
      "19 51416.61254842469\n",
      "20 56044.10767778291\n",
      "21 61088.07736878337\n",
      "22 66586.00433197388\n",
      "23 72578.74472185153\n",
      "24 79110.83174681816\n",
      "25 86230.8066040318\n",
      "26 93991.57919839465\n",
      "27 102450.82132625018\n",
      "28 111671.3952456127\n",
      "29 121721.82081771785\n",
      "30 132676.78469131247\n"
     ]
    }
   ],
   "source": [
    "\n",
    "def futureInvestmentValue(inv,mon,years):\n",
    "    years = years+1\n",
    "    for i in range(1,years):\n",
    "        inv = inv+ inv*mon\n",
    "        print(i,inv)\n",
    "futureInvestmentValue(10000,0.09,30)"
   ]
  },
  {
   "cell_type": "markdown",
   "metadata": {},
   "source": [
    "5、打印1-z的字符，每行打印10个"
   ]
  },
  {
   "cell_type": "code",
   "execution_count": 42,
   "metadata": {},
   "outputs": [
    {
     "name": "stdout",
     "output_type": "stream",
     "text": [
      "123456789:\n",
      "ABCDEFGHIJ\n",
      "KLMNOPQRST\n",
      "UVWXYZ"
     ]
    }
   ],
   "source": [
    "def printChar(ch1,ch2,nP):\n",
    "    for i in range(10):\n",
    "        print(chr(ord(\"1\") + i),end=\"\")    #ord函数将字符转换为整数显示，chr函数将整数转换为字符显示\n",
    "        if(i+1) % 10 == 0:\n",
    "            print()\n",
    "    for i in range(26):\n",
    "        print(chr(ord(\"A\") + i),end=\"\")\n",
    "        if(i+1) % 10 == 0:\n",
    "            print()\n",
    "printChar(1,7,10)"
   ]
  },
  {
   "cell_type": "code",
   "execution_count": null,
   "metadata": {},
   "outputs": [],
   "source": [
    "6、显示从2010年到2020年每年的天数"
   ]
  },
  {
   "cell_type": "code",
   "execution_count": 58,
   "metadata": {},
   "outputs": [
    {
     "name": "stdout",
     "output_type": "stream",
     "text": [
      "2010年为平年，365天\n",
      "2011年为平年，365天\n",
      "2012年为闰年，366天\n",
      "2013年为平年，365天\n",
      "2014年为平年，365天\n",
      "2015年为平年，365天\n",
      "2016年为闰年，366天\n",
      "2017年为平年，365天\n",
      "2018年为平年，365天\n",
      "2019年为平年，365天\n",
      "2020年为闰年，366天\n"
     ]
    }
   ],
   "source": [
    "def numberOfDaysInAYear(year):\n",
    "    for year in range(2010,2021):\n",
    "        if year%4==0 and year%100 !=0:\n",
    "            print(\"%s年为闰年，366天\"%year)\n",
    "        elif year%400==0:\n",
    "            print(\"%s年为闰年，366天\"%year)\n",
    "        else:\n",
    "            print(\"%s年为平年，365天\"%year)\n",
    "numberOfDaysInAYear(year)"
   ]
  },
  {
   "cell_type": "code",
   "execution_count": null,
   "metadata": {},
   "outputs": [],
   "source": [
    "7、(几何问题：显示角)重写程序清单2-9使用下面的函数计算两点之间的距离"
   ]
  },
  {
   "cell_type": "code",
   "execution_count": 14,
   "metadata": {},
   "outputs": [
    {
     "name": "stdout",
     "output_type": "stream",
     "text": [
      "8\n",
      "您输入的第一个点的横坐标是：1，纵坐标是：2\n",
      "您输入的第二个点的横坐标是：3，纵坐标是：4\n",
      "两点之间的距离是：2\n"
     ]
    }
   ],
   "source": [
    "import math\n",
    "def distance(x1,y1,x2,y2):\n",
    "    c=(x1-x2)**2+(y1-y2)**2\n",
    "    dis=math.sqrt(c)\n",
    "    print(\"您输入的第一个点的横坐标是：%d，纵坐标是：%s\"%(x1,y1))\n",
    "    print(\"您输入的第二个点的横坐标是：%d，纵坐标是：%s\"%(x2,y2))\n",
    "    print(\"两点之间的距离是：%d\"%dis)\n",
    "distance(1,2,3,4)\n",
    "    \n",
    "    "
   ]
  },
  {
   "cell_type": "markdown",
   "metadata": {},
   "source": [
    "8、如果一个素数可以写成2^(p-1)形式，其中p是某个正整数，那么这个数就被称作梅森素数，编写程序找出所有p<=31梅森素数"
   ]
  },
  {
   "cell_type": "code",
   "execution_count": 81,
   "metadata": {},
   "outputs": [
    {
     "name": "stdout",
     "output_type": "stream",
     "text": [
      "2的梅森素数为：3\n",
      "3的梅森素数为：7\n",
      "5的梅森素数为：31\n"
     ]
    }
   ],
   "source": [
    "def sushu(p):\n",
    "    s = 2**p-1\n",
    "    for i in range(2,s):#判断s是素数\n",
    "        if s%i == 0:\n",
    "            break\n",
    "    else:\n",
    "        print(\"%d的梅森素数为：%d\"%(p,s))\n",
    "for p in range(2,6):\n",
    "    sushu(p)\n",
    "\n"
   ]
  },
  {
   "cell_type": "markdown",
   "metadata": {},
   "source": [
    "9、（当前时间和日期）调用time.time()返回从1970年1月1日0点开始的毫秒数，编写程序显示日期和时间，如Current date and time is May 16,2012 10:34:23"
   ]
  },
  {
   "cell_type": "code",
   "execution_count": 102,
   "metadata": {},
   "outputs": [
    {
     "name": "stdout",
     "output_type": "stream",
     "text": [
      "1565405967.7522402\n",
      "time.struct_time(tm_year=2019, tm_mon=8, tm_mday=10, tm_hour=10, tm_min=59, tm_sec=27, tm_wday=5, tm_yday=222, tm_isdst=0)\n",
      "Current date and time is Sat Aug 10 10:59:27 2019\n"
     ]
    }
   ],
   "source": [
    "import time\n",
    "print(time.time())\n",
    "print(time.localtime(time.time()))\n",
    "print(\"Current date and time is %s\"%time.asctime(time.localtime(time.time())))\n",
    "#localtime = time.asctime(time.localtime(time.time()))\n",
    "#print(localtime)"
   ]
  },
  {
   "cell_type": "markdown",
   "metadata": {},
   "source": [
    "10、（游戏：掷骰子）掷两个骰子，每个骰子有六个面，分别表示值1，2…、6。检查两个骰子的和，如果和为2,3,12，你就输了；如果和为7或11，你就赢了；如果和是其他数字（4,5,6,8,9或10），就确定了一个点。继续掷骰子，直到掷出一个7或者掷出和刚才相同的点数。如果掷出的是7，你就输了。如果掷出的点数和你前一次掷出来的相同，你就赢了。程序扮演一个单独的玩家。"
   ]
  },
  {
   "cell_type": "code",
   "execution_count": 137,
   "metadata": {},
   "outputs": [
    {
     "name": "stdout",
     "output_type": "stream",
     "text": [
      "您第一次抛出的点数为: 3\n",
      "您第二次抛出的点数为: 5\n",
      "您抛出的两次点数之和为： 8\n",
      "您第一次抛出的点数为: 4\n",
      "您第二次抛出的点数为: 1\n",
      "您抛出的两次点数之和为： 5\n",
      "请开始下一局！\n"
     ]
    }
   ],
   "source": [
    "import numpy as np\n",
    "def dianshu():\n",
    "    res1 = np.random.choice([1,2,3,4,5,6])\n",
    "    print(\"您第一次抛出的点数为:\",res1)\n",
    "    res2 = np.random.choice([1,2,3,4,5,6])\n",
    "    print(\"您第二次抛出的点数为:\",res2)\n",
    "    res = res1 + res2\n",
    "    print(\"您抛出的两次点数之和为：\",res)\n",
    "    return res\n",
    "res = dianshu()\n",
    "if res==2 or res==3 or res==12:\n",
    "    print(\"你输了！！！\")\n",
    "elif res==7 or res==11:\n",
    "    print(\"你赢了！！！\")\n",
    "else:\n",
    "    res3 = res\n",
    "    res = dianshu()\n",
    "    if res ==7 or res == res3:\n",
    "        print(\"你赢了！！！\")\n",
    "    else:\n",
    "        print(\"请开始下一局！\")"
   ]
  },
  {
   "cell_type": "code",
   "execution_count": null,
   "metadata": {},
   "outputs": [],
   "source": []
  },
  {
   "cell_type": "code",
   "execution_count": null,
   "metadata": {},
   "outputs": [],
   "source": []
  },
  {
   "cell_type": "code",
   "execution_count": null,
   "metadata": {},
   "outputs": [],
   "source": []
  },
  {
   "cell_type": "code",
   "execution_count": null,
   "metadata": {},
   "outputs": [],
   "source": []
  },
  {
   "cell_type": "code",
   "execution_count": null,
   "metadata": {},
   "outputs": [],
   "source": []
  },
  {
   "cell_type": "code",
   "execution_count": null,
   "metadata": {},
   "outputs": [],
   "source": []
  },
  {
   "cell_type": "code",
   "execution_count": null,
   "metadata": {},
   "outputs": [],
   "source": []
  },
  {
   "cell_type": "code",
   "execution_count": null,
   "metadata": {},
   "outputs": [],
   "source": []
  },
  {
   "cell_type": "code",
   "execution_count": null,
   "metadata": {},
   "outputs": [],
   "source": []
  },
  {
   "cell_type": "code",
   "execution_count": null,
   "metadata": {},
   "outputs": [],
   "source": []
  },
  {
   "cell_type": "code",
   "execution_count": null,
   "metadata": {},
   "outputs": [],
   "source": []
  }
 ],
 "metadata": {
  "kernelspec": {
   "display_name": "Python 3",
   "language": "python",
   "name": "python3"
  },
  "language_info": {
   "codemirror_mode": {
    "name": "ipython",
    "version": 3
   },
   "file_extension": ".py",
   "mimetype": "text/x-python",
   "name": "python",
   "nbconvert_exporter": "python",
   "pygments_lexer": "ipython3",
   "version": "3.6.4"
  }
 },
 "nbformat": 4,
 "nbformat_minor": 2
}
