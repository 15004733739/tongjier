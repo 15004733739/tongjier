{
 "cells": [
  {
   "cell_type": "markdown",
   "metadata": {},
   "source": [
    "1、根据输入的长、宽，打印该矩形的面积、周长\n",
    "将1和2分别作为width和height的默认值"
   ]
  },
  {
   "cell_type": "code",
   "execution_count": 8,
   "metadata": {},
   "outputs": [
    {
     "name": "stdout",
     "output_type": "stream",
     "text": [
      "宽、长为：1、2\n",
      "面积为：2\n",
      "周长为：6\n",
      "宽、长为：3、4\n",
      "面积为：12\n",
      "周长为：14\n"
     ]
    }
   ],
   "source": [
    "class Rectangle(object):                    #width、height的默认值1和2\n",
    "    def __init__(self,width=1,height=2):    #类有一个名为 __init__() 的特殊方法（构造方法），该方法在类实例化时会自动调用\n",
    "        self.width=width\n",
    "        self.height=height\n",
    "    def getArea(self):\n",
    "        getarea=self.width*self.height\n",
    "        print(\"宽、长为：%s\"%self.width+\"、%s\"%self.height)\n",
    "        print(\"面积为：%s\"%getarea)\n",
    "        #self.getPerimeter()      #可以继续执行getPerimeter这个函数\n",
    "    def getPerimeter(self):\n",
    "        getperimeter=(self.width+self.height)*2\n",
    "        print(\"周长为：%s\"%getperimeter)\n",
    "def main():                             #构造一个测试函数\n",
    "    rectangle=Rectangle()\n",
    "    rectangle.getArea()\n",
    "    rectangle.getPerimeter()\n",
    "    rectangle=Rectangle(3,4)\n",
    "    rectangle.getArea()\n",
    "    rectangle.getPerimeter()\n",
    "if __name__=='__main__':\n",
    "    main()\n",
    "    \n",
    "    \n"
   ]
  },
  {
   "cell_type": "markdown",
   "metadata": {},
   "source": [
    "2、根据已知得id、账户额、年利率、支出、收入，打印id、金额，月利率和月利息"
   ]
  },
  {
   "cell_type": "code",
   "execution_count": 9,
   "metadata": {},
   "outputs": [
    {
     "name": "stdout",
     "output_type": "stream",
     "text": [
      "金额为：600.0\n",
      "月利率为：0.0\n",
      "月利息为：0.0\n",
      "金额为：20500.0\n",
      "月利率为：3.75e-05\n",
      "月利息为：0.7687499999999999\n",
      "金额为：530\n",
      "月利率为：3.75e-05\n",
      "月利息为：0.019874999999999997\n"
     ]
    }
   ],
   "source": [
    "class Account(object):\n",
    "    def __init__(self,id = 0,balance = 100,annualInterestRate = 0):\n",
    "        self.__id=int(id)\n",
    "        self.__balance=float(balance)\n",
    "        self.__annualInterestRate=float(annualInterestRate)\n",
    "   \n",
    "        \n",
    "    @property   #访问器   可访问私有参数的值 #详情见访问器章节\n",
    "    def id(self):\n",
    "        return self.__id\n",
    "    @property \n",
    "    def balance(self):\n",
    "        return self.__balance\n",
    "    @property\n",
    "    def annulInterestRate(self):\n",
    "        return self.__annualInterestRate\n",
    "    @balance.setter  #修改器 修改器搭配访问器可以进行修改参数的值 #详情见访问器章节\n",
    "    def balance(self,balance):\n",
    "        self.__balance=balance\n",
    "    @annulInterestRate.setter\n",
    "    def annulInterestRate(self,annulInterestRate):\n",
    "        self.__annulInterestRate=annulInterestRate\n",
    "    def withdraw(self,n):\n",
    "        self.__balance=self.__balance-n\n",
    "    def deposit(self,x):\n",
    "        self.__balance=self.__balance+x\n",
    "        print(\"金额为：%s\"%self.__balance)\n",
    "    def getMonthlyInterestRate(self):\n",
    "        self.monthlyInterestRate = self.__annualInterestRate/12/100\n",
    "        print(\"月利率为：%s\"%self.monthlyInterestRate)\n",
    "    def getMonthlyInterest(self):\n",
    "        monthlyInterest =self.__balance*self.monthlyInterestRate\n",
    "        print(\"月利息为：%s\"%monthlyInterest)\n",
    "def main():\n",
    "    account=Account()      #不给参数的值，走参数的默认值\n",
    "    #print(account.__balance)\n",
    "    account.withdraw(2500)\n",
    "    account.deposit(3000)\n",
    "    account.getMonthlyInterestRate()\n",
    "    account.getMonthlyInterest()\n",
    "    account=Account(1122,20000,0.045) #给参数赋值\n",
    "    #print(account.__balance)\n",
    "    account.withdraw(2500)\n",
    "    account.deposit(3000)\n",
    "    account.getMonthlyInterestRate()\n",
    "    account.getMonthlyInterest()\n",
    "    account.balance = 30     #通过访问器和修改器，修改私有参数的值\n",
    "    account.withdraw(2500)\n",
    "    account.deposit(3000)\n",
    "    account.getMonthlyInterestRate()\n",
    "    account.getMonthlyInterest()\n",
    "if __name__=='__main__':\n",
    "        main()     \n",
    "    "
   ]
  },
  {
   "cell_type": "markdown",
   "metadata": {},
   "source": [
    "3、风扇，风速、半径、颜色、是否打开"
   ]
  },
  {
   "cell_type": "code",
   "execution_count": 85,
   "metadata": {},
   "outputs": [],
   "source": [
    "class fan(object):\n",
    "    SLOW=1\n",
    "    MEDIUM=2\n",
    "    FAST=3\n",
    "    def __init__(self,speed,radius,color,on):\n",
    "        speed=[SLOW,MEDIUM,FAST]\n",
    "        self.__speed=int(speed)\n",
    "        self.__radius=float(radius)\n",
    "        self.__color=str(color)\n",
    "        self.__on=bool(on)\n",
    "        print()"
   ]
  },
  {
   "cell_type": "code",
   "execution_count": 12,
   "metadata": {},
   "outputs": [
    {
     "name": "stdout",
     "output_type": "stream",
     "text": [
      "1 5.0 blue False\n",
      "3 5.0 blue False\n",
      "3 10 yellow True\n",
      "2 5 red False\n"
     ]
    }
   ],
   "source": [
    "class fan(object):\n",
    "    def __init__(self,speed=1,radius=5,color=\"blue\",on=False):\n",
    "        self.__speed=int(speed)\n",
    "        self.__radius=float(radius)\n",
    "        self.__color=str(color)\n",
    "        self.__on=bool(on)\n",
    "    @property\n",
    "    def speed(self):\n",
    "        return self._speed\n",
    "\n",
    "    # 访问器 - getter方法\n",
    "    @property\n",
    "    def radius(self):\n",
    "        return self._radius\n",
    "    @property\n",
    "    def color(self):\n",
    "        return self._color\n",
    "    @property\n",
    "    def on(self):\n",
    "        return self._on\n",
    "\n",
    "    # 修改器 - setter方法\n",
    "    @speed.setter\n",
    "    def speed(self,speed):\n",
    "        self.__speed = speed\n",
    "    @radius.setter\n",
    "    def radius(self,radius):\n",
    "        self.__radius = radius\n",
    "    @color.setter\n",
    "    def color(self,color):\n",
    "        self.__color = color\n",
    "    @on.setter\n",
    "    def on(self,on):\n",
    "        self.__on = on\n",
    "   \n",
    "    def shuchu(self):\n",
    "        print(self.__speed,self.__radius,self.__color,self.__on)\n",
    "\n",
    "def main():\n",
    "    FAN = fan()         #不给参数赋值，走默认值\n",
    "    FAN.shuchu()\n",
    "    FAN = fan(3,5,\"blue\",False)  #给参数赋值\n",
    "    FAN.shuchu()\n",
    "    FAN.speed = 3               #通过使用访问器和修饰器，修改参数的值\n",
    "    FAN.radius = 10\n",
    "    FAN.color = \"yellow\"\n",
    "    FAN.on = True\n",
    "    FAN.shuchu()\n",
    "    FAN.speed = 2\n",
    "    FAN.radius = 5\n",
    "    FAN.color = \"red\"\n",
    "    FAN.on = False\n",
    "    FAN.shuchu()\n",
    "if __name__ == '__main__':\n",
    "    main()\n",
    "\n"
   ]
  },
  {
   "cell_type": "markdown",
   "metadata": {},
   "source": [
    "访问器，修改器示例"
   ]
  },
  {
   "cell_type": "code",
   "execution_count": 92,
   "metadata": {},
   "outputs": [
    {
     "name": "stdout",
     "output_type": "stream",
     "text": [
      "王大锤正在玩飞行棋.\n",
      "王大锤正在玩斗地主.\n"
     ]
    }
   ],
   "source": [
    "class Person(object):\n",
    "\n",
    "    def __init__(self, name, age):\n",
    "        self._name = name\n",
    "        self._age = age\n",
    "\n",
    "    # 访问器 - getter方法\n",
    "    @property\n",
    "    def name(self):\n",
    "        return self._name\n",
    "\n",
    "    # 访问器 - getter方法\n",
    "    @property\n",
    "    def age(self):\n",
    "        return self._age\n",
    "\n",
    "    # 修改器 - setter方法\n",
    "    @age.setter\n",
    "    def age(self, age):\n",
    "        self._age = age\n",
    "\n",
    "    def play(self):\n",
    "        if self._age <= 16:\n",
    "            print('%s正在玩飞行棋.' % self._name)\n",
    "        else:\n",
    "            print('%s正在玩斗地主.' % self._name)\n",
    "\n",
    "\n",
    "def main():\n",
    "    person = Person('王大锤', 12)\n",
    "    person.play()\n",
    "    person.age = 22\n",
    "    person.play()\n",
    "    # person.name = '白元芳'  # AttributeError: can't set attribute\n",
    "\n",
    "\n",
    "if __name__ == '__main__':\n",
    "    main()"
   ]
  },
  {
   "cell_type": "code",
   "execution_count": null,
   "metadata": {},
   "outputs": [],
   "source": [
    "4、"
   ]
  },
  {
   "cell_type": "code",
   "execution_count": 25,
   "metadata": {},
   "outputs": [
    {
     "name": "stdout",
     "output_type": "stream",
     "text": [
      "周长为：3.0\n",
      "面积为：0.43301270189221946\n",
      "周长为：24.0\n",
      "面积为：41.569219381653056\n",
      "周长为：40.0\n",
      "面积为：123.10734148701015\n",
      "10\n",
      "4.0\n",
      "5.6\n",
      "7.8\n"
     ]
    }
   ],
   "source": [
    "import math\n",
    "from math import fabs \n",
    "class RegularPolygon(object):\n",
    "    def __init__(self,n=3,side=1,x=0,y=0):\n",
    "        self.__n=int(n)\n",
    "        self.__side=float(side)\n",
    "        self.__x=float(x)\n",
    "        self.__y=float(y)\n",
    "    @property\n",
    "    def n(self):\n",
    "        return self.__n\n",
    "\n",
    "    # 访问器 - getter方法\n",
    "    @property\n",
    "    def side(self):\n",
    "        return self.__side\n",
    "    @property\n",
    "    def x(self):\n",
    "        return self.__x\n",
    "    @property\n",
    "    def y(self):\n",
    "        return self.__y\n",
    "\n",
    "    # 修改器 - setter方法\n",
    "    @n.setter\n",
    "    def n(self,speed):\n",
    "        self.__n= n\n",
    "    @side.setter\n",
    "    def side(self,side):\n",
    "        self.__side = side\n",
    "    @x.setter\n",
    "    def x(self,x):\n",
    "        self.__x = x\n",
    "    @y.setter\n",
    "    def y(self,y):\n",
    "        self.__y = y\n",
    "        \n",
    "    def getPerimeter(self):\n",
    "        perimeter=self.__side*self.__n\n",
    "        print(\"周长为：%s\"%perimeter)\n",
    "    def gerArea(self):\n",
    "        area=self.__n*self.__side*self.__side/(4*math.tan(math.pi/self.__n))\n",
    "        print(\"面积为：%s\"%area)\n",
    "            \n",
    "\n",
    "def main():\n",
    "    re=RegularPolygon()      #走默认参数\n",
    "    re.getPerimeter()\n",
    "    re.gerArea()\n",
    "    re=RegularPolygon(6,4)    #给前两个参数赋值，后两个参数走默认值\n",
    "    re.getPerimeter()\n",
    "    re.gerArea()\n",
    "    re=RegularPolygon(10,4,5.6,7.8) #给四个参数赋值\n",
    "    re.getPerimeter()\n",
    "    re.gerArea()\n",
    "    print(re.n)        #通过访问器，访问私有变量\n",
    "    print(re.side)     #\n",
    "    print(re.x)\n",
    "    print(re.y)\n",
    "    \n",
    "if __name__==\"__main__\":\n",
    "    main()"
   ]
  },
  {
   "cell_type": "code",
   "execution_count": null,
   "metadata": {},
   "outputs": [],
   "source": []
  },
  {
   "cell_type": "code",
   "execution_count": null,
   "metadata": {},
   "outputs": [],
   "source": []
  }
 ],
 "metadata": {
  "kernelspec": {
   "display_name": "Python 3",
   "language": "python",
   "name": "python3"
  },
  "language_info": {
   "codemirror_mode": {
    "name": "ipython",
    "version": 3
   },
   "file_extension": ".py",
   "mimetype": "text/x-python",
   "name": "python",
   "nbconvert_exporter": "python",
   "pygments_lexer": "ipython3",
   "version": "3.6.4"
  }
 },
 "nbformat": 4,
 "nbformat_minor": 2
}
