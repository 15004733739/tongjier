{
 "cells": [
  {
   "cell_type": "code",
   "execution_count": null,
   "metadata": {},
   "outputs": [],
   "source": [
    "class zhengfangxing(object):\n",
    "    def __init__(self,a,b,c,d):\n",
    "        self.a=a\n",
    "        self.b=b\n",
    "        self.c=c\n",
    "        self.d=d2\n",
    "    def math(self):\n",
    "        for i in [self.b,self.c,self.d]:\n",
    "            if i != self.a:\n",
    "                return False\n",
    "            else:\n",
    "                return True\n",
    " \n",
    " #未完成！！！           "
   ]
  },
  {
   "cell_type": "markdown",
   "metadata": {},
   "source": [
    "## 静态方法（静态方法和类方法都是通过给类发消息来调用的）"
   ]
  },
  {
   "cell_type": "code",
   "execution_count": 13,
   "metadata": {},
   "outputs": [
    {
     "name": "stdout",
     "output_type": "stream",
     "text": [
      "你好\n"
     ]
    }
   ],
   "source": [
    "class A(object):       #定义一个类\n",
    "    @staticmethod      #用静态方法\n",
    "    def is_valid(j):   #定义了一个参数没有self的方法，（此方法不是class的）\n",
    "        print(j)        #要使用@staticmethod静态方法通过给类发消息来调用\n",
    "    def a(self):\n",
    "        print(\"hello\")\n",
    "a=A()\n",
    "a.is_valid(\"你好\")       #is_valid()方法不含self，要使用静态方法通过给类发消息来调用"
   ]
  },
  {
   "cell_type": "code",
   "execution_count": 15,
   "metadata": {},
   "outputs": [
    {
     "ename": "TypeError",
     "evalue": "a() takes 0 positional arguments but 1 was given",
     "output_type": "error",
     "traceback": [
      "\u001b[1;31m---------------------------------------------------------------------------\u001b[0m",
      "\u001b[1;31mTypeError\u001b[0m                                 Traceback (most recent call last)",
      "\u001b[1;32m<ipython-input-15-43375c330d22>\u001b[0m in \u001b[0;36m<module>\u001b[1;34m()\u001b[0m\n\u001b[0;32m      5\u001b[0m         \u001b[0mprint\u001b[0m\u001b[1;33m(\u001b[0m\u001b[1;34m\"A\"\u001b[0m\u001b[1;33m)\u001b[0m    \u001b[1;31m#不属于类，不能直接调用，要使用静态方法通过给类发消息，才能调用\u001b[0m\u001b[1;33m\u001b[0m\u001b[0m\n\u001b[0;32m      6\u001b[0m \u001b[0mjoker\u001b[0m \u001b[1;33m=\u001b[0m \u001b[0mA\u001b[0m\u001b[1;33m(\u001b[0m\u001b[1;33m)\u001b[0m\u001b[1;33m\u001b[0m\u001b[0m\n\u001b[1;32m----> 7\u001b[1;33m \u001b[0mjoker\u001b[0m\u001b[1;33m.\u001b[0m\u001b[0ma\u001b[0m\u001b[1;33m(\u001b[0m\u001b[1;33m)\u001b[0m\u001b[1;33m\u001b[0m\u001b[0m\n\u001b[0m",
      "\u001b[1;31mTypeError\u001b[0m: a() takes 0 positional arguments but 1 was given"
     ]
    }
   ],
   "source": [
    "#静态方法\n",
    "class A(object):\n",
    "   # @staticmethod   #静态方法\n",
    "    def a():         #定义的此方法的参数不含self\n",
    "        print(\"A\")    #不属于类，不能直接调用，要使用静态方法通过给类发消息，才能调用\n",
    "joker = A()\n",
    "joker.a()"
   ]
  },
  {
   "cell_type": "code",
   "execution_count": 16,
   "metadata": {},
   "outputs": [
    {
     "name": "stdout",
     "output_type": "stream",
     "text": [
      "A\n"
     ]
    }
   ],
   "source": [
    "#静态方法\n",
    "class A(object):\n",
    "    @staticmethod   #静态方法\n",
    "    def a():         #定义的此方法的参数不含self\n",
    "        print(\"A\")    #不属于类，不能直接调用，要使用静态方法通过给类发消息，才能调用\n",
    "joker = A()\n",
    "joker.a()"
   ]
  },
  {
   "cell_type": "markdown",
   "metadata": {},
   "source": [
    "## 类方法(静态方法和类方法都是通过给类发消息来调用的)\n",
    "Python还可以在类中定义类方法，类方法的第一个参数约定名为cls，它代表的是当前类相关的信息的对象（类本身也是一个对象，有的地方也称之为类的元数据对象），通过这个参数我们可以获取和类相关的信息并且可以创建出类的对象，"
   ]
  },
  {
   "cell_type": "code",
   "execution_count": 20,
   "metadata": {},
   "outputs": [
    {
     "name": "stdout",
     "output_type": "stream",
     "text": [
      "100\n"
     ]
    }
   ],
   "source": [
    "class A(object):\n",
    "    def __init__(self):\n",
    "        self.joker = 100\n",
    "    @classmethod\n",
    "    def a(cls):           #定义的函数没有参数self，不属于class，想调用上一个函数 ，可以用类方法@classmethod，通过发消息给类，来调用\n",
    "        return cls()\n",
    "    \n",
    "joker1=A.a()            #使用类方法，用定义的类方法调用!!!，（以前调用A类，现在调用A类定义的类方法）\n",
    "print(joker1.joker)"
   ]
  },
  {
   "cell_type": "code",
   "execution_count": 26,
   "metadata": {},
   "outputs": [
    {
     "name": "stdout",
     "output_type": "stream",
     "text": [
      "100\n"
     ]
    },
    {
     "ename": "AttributeError",
     "evalue": "'A' object has no attribute 'joler_1'",
     "output_type": "error",
     "traceback": [
      "\u001b[1;31m---------------------------------------------------------------------------\u001b[0m",
      "\u001b[1;31mAttributeError\u001b[0m                            Traceback (most recent call last)",
      "\u001b[1;32m<ipython-input-26-b81973984a70>\u001b[0m in \u001b[0;36m<module>\u001b[1;34m()\u001b[0m\n\u001b[0;32m      9\u001b[0m \u001b[0mprint\u001b[0m\u001b[1;33m(\u001b[0m\u001b[0mjoker\u001b[0m\u001b[1;33m.\u001b[0m\u001b[0mjoker_1\u001b[0m\u001b[1;33m)\u001b[0m\u001b[1;33m\u001b[0m\u001b[0m\n\u001b[0;32m     10\u001b[0m \u001b[0mjoker2\u001b[0m \u001b[1;33m=\u001b[0m \u001b[0mA\u001b[0m\u001b[1;33m(\u001b[0m\u001b[1;33m)\u001b[0m\u001b[1;33m\u001b[0m\u001b[0m\n\u001b[1;32m---> 11\u001b[1;33m \u001b[0mprint\u001b[0m\u001b[1;33m(\u001b[0m\u001b[0mjoker2\u001b[0m\u001b[1;33m.\u001b[0m\u001b[0mjoler_1\u001b[0m\u001b[1;33m)\u001b[0m\u001b[1;33m\u001b[0m\u001b[0m\n\u001b[0m",
      "\u001b[1;31mAttributeError\u001b[0m: 'A' object has no attribute 'joler_1'"
     ]
    }
   ],
   "source": [
    "class A(object):\n",
    "    def __init__(self):\n",
    "        self.joker_1 = 100\n",
    "    @classmethod\n",
    "    def a(cls):\n",
    "        return cls()\n",
    "    \n",
    "joker = A.a()            #使用类方法，通过给A类发消息，调用\n",
    "print(joker.joker_1)     #调用类方法A.a()，来调用joker_1!!!\n",
    "joker2 = A()             #不能用定义的A类A()调用\n",
    "print(joker2.joler_1)"
   ]
  },
  {
   "cell_type": "code",
   "execution_count": null,
   "metadata": {},
   "outputs": [],
   "source": []
  }
 ],
 "metadata": {
  "kernelspec": {
   "display_name": "Python 3",
   "language": "python",
   "name": "python3"
  },
  "language_info": {
   "codemirror_mode": {
    "name": "ipython",
    "version": 3
   },
   "file_extension": ".py",
   "mimetype": "text/x-python",
   "name": "python",
   "nbconvert_exporter": "python",
   "pygments_lexer": "ipython3",
   "version": "3.6.4"
  }
 },
 "nbformat": 4,
 "nbformat_minor": 2
}
