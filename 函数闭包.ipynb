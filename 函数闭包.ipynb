{
 "cells": [
  {
   "cell_type": "markdown",
   "metadata": {},
   "source": [
    "不带参数的函数闭包（函数里套函数）"
   ]
  },
  {
   "cell_type": "code",
   "execution_count": 4,
   "metadata": {},
   "outputs": [
    {
     "name": "stdout",
     "output_type": "stream",
     "text": [
      "hello\n"
     ]
    },
    {
     "data": {
      "text/plain": [
       "'执行原理：（执行函数用（）调用，所以执行函数的函数也要用（），所以print(f1())）\\nprint(f1()) 走f1的函数——因为f1=foo() 走foo()的函数\\n——def foo()——return bar——def bar（）——return \"hello\"'"
      ]
     },
     "execution_count": 4,
     "metadata": {},
     "output_type": "execute_result"
    }
   ],
   "source": [
    "def foo():\n",
    "    def bar():\n",
    "        return \"hello\"\n",
    "    return bar\n",
    "\n",
    "f1=foo()\n",
    "print(f1())\n",
    "\n",
    "'''执行原理：（执行函数用（）调用，所以执行函数的函数也要用（），所以print(f1())）\n",
    "print(f1()) 走f1的函数——因为f1=foo() 走foo()的函数\n",
    "——def foo()——return bar——def bar（）——return \"hello\"'''"
   ]
  },
  {
   "cell_type": "markdown",
   "metadata": {},
   "source": [
    "带参数的函数闭包"
   ]
  },
  {
   "cell_type": "code",
   "execution_count": 7,
   "metadata": {},
   "outputs": [
    {
     "name": "stdout",
     "output_type": "stream",
     "text": [
      "[1]\n",
      "[1, 2]\n"
     ]
    },
    {
     "data": {
      "text/plain": [
       "'执行流程：\\nprint(res1)——res1=f1(1)——f1=foo()——def foo():\\n——l=[]——return bar——def bar(i)——l.append(i)——return l——print(l)打印l'"
      ]
     },
     "execution_count": 7,
     "metadata": {},
     "output_type": "execute_result"
    }
   ],
   "source": [
    "def foo():              #定义一个foo的函数\n",
    "    l = []               #定义一个l的列表\n",
    "    def bar(i):          #定义一个bar的带参数i的函数\n",
    "        l.append(i)      #将参数i追加到l列表中\n",
    "        return l        #弹出列表l\n",
    "    return bar          #弹出bar函数\n",
    "\n",
    "f1 = foo()             #将foo函数示例化为f1\n",
    "res1 = f1(1)            \n",
    "print(res1)            #打印参数为1的f1函数\n",
    "#f1=foo()               #重新将foo函数实例化为f1,（不会在上面追加进1的列表里继续追加）\n",
    "res2 = f1(2)            #而是重新再空列表里追加\n",
    "print(res2)\n",
    "\n",
    "\"\"\"执行流程：\n",
    "print(res1)——res1=f1(1)——f1=foo()——def foo():\n",
    "——l=[]——return bar——def bar(i)——l.append(i)——return l——print(l)打印l\"\"\""
   ]
  }
 ],
 "metadata": {
  "kernelspec": {
   "display_name": "Python 3",
   "language": "python",
   "name": "python3"
  },
  "language_info": {
   "codemirror_mode": {
    "name": "ipython",
    "version": 3
   },
   "file_extension": ".py",
   "mimetype": "text/x-python",
   "name": "python",
   "nbconvert_exporter": "python",
   "pygments_lexer": "ipython3",
   "version": "3.6.4"
  }
 },
 "nbformat": 4,
 "nbformat_minor": 2
}
