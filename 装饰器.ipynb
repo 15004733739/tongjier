{
 "cells": [
  {
   "cell_type": "markdown",
   "metadata": {},
   "source": [
    "装饰器@deco起加工的作用\n",
    "先走装饰器，return出func函数，再走下面的函数"
   ]
  },
  {
   "cell_type": "code",
   "execution_count": 5,
   "metadata": {},
   "outputs": [
    {
     "name": "stdout",
     "output_type": "stream",
     "text": [
      "5\n",
      "2 3\n",
      "3\n",
      "1 2\n",
      "7\n",
      "3 4\n"
     ]
    }
   ],
   "source": [
    "def deco(func):           #启动函数a（1,2），发现此函数有装饰器@deco，先走装饰器@deco\n",
    "    def Sum(h1,h2):       #带着函数a(1,2)走def deco(func):——return Sum——走Sum函数def Sum(h1,h2)\n",
    "        sum=h1+h2         #走sum=h1+h2（也就是带进来的数1、2相加）——print(sum)\n",
    "        print(sum)        #return func(h1,h2)，弹出带着两个参数（可以是刚刚带进来的两个也可以是其他两个变量）的a的函数\n",
    "        return func(h1,h2)#——def a(a1,a2):——print（a1,a2）\n",
    "    return Sum\n",
    "@deco\n",
    "def a(a1,a2):\n",
    "    print(a1,a2)\n",
    "@deco\n",
    "def b(b1,b2):                #和上面执行a的函数的程序是一样的\n",
    "    print(b1,b2)\n",
    "@deco\n",
    "def c(c1,c2):\n",
    "    print(c1,c2)\n",
    "a(2,3)\n",
    "b(1,2)\n",
    "c(3,4)"
   ]
  },
  {
   "cell_type": "markdown",
   "metadata": {},
   "source": [
    "不带参数的装饰器"
   ]
  },
  {
   "cell_type": "code",
   "execution_count": 6,
   "metadata": {},
   "outputs": [
    {
     "name": "stdout",
     "output_type": "stream",
     "text": [
      "HELLO2\n",
      "HELLO\n",
      "hello\n"
     ]
    }
   ],
   "source": [
    "def deco(func):\n",
    "    print(\"HELLO2\")\n",
    "    def warp():\n",
    "        print(\"HELLO\")\n",
    "        return func()\n",
    "    return warp\n",
    "\n",
    "@deco\n",
    "def Joker():\n",
    "    print(\"hello\")\n",
    "\n",
    "Joker()"
   ]
  },
  {
   "cell_type": "markdown",
   "metadata": {},
   "source": [
    "带参数的装饰器"
   ]
  },
  {
   "cell_type": "code",
   "execution_count": 7,
   "metadata": {},
   "outputs": [
    {
     "name": "stdout",
     "output_type": "stream",
     "text": [
      "Joker\n",
      "hellopanpan\n"
     ]
    }
   ],
   "source": [
    "def deco(func):\n",
    "    def warp(H):\n",
    "        print(\"Joker\")\n",
    "        return func(H)\n",
    "    return warp\n",
    "\n",
    "@deco\n",
    "def Joker(name):\n",
    "    print(\"hello%s\"%name)\n",
    "\n",
    "Joker(\"panpan\")"
   ]
  },
  {
   "cell_type": "markdown",
   "metadata": {},
   "source": [
    "用装饰器将前两个数求和，再乘以第三个数"
   ]
  },
  {
   "cell_type": "code",
   "execution_count": 9,
   "metadata": {},
   "outputs": [
    {
     "name": "stdout",
     "output_type": "stream",
     "text": [
      "0 12 3\n",
      "36\n"
     ]
    }
   ],
   "source": [
    "def Joker(func):\n",
    "    def warp(n1,n2,n3):\n",
    "        num=n1+n2\n",
    "        return func(0,num,n3)\n",
    "    return warp\n",
    "\n",
    "@Joker\n",
    "def SUM(num1,num2,num3):\n",
    "    print(num1,num2,num3)\n",
    "    print(num2*num3)\n",
    "\n",
    "SUM(10,2,3)"
   ]
  },
  {
   "cell_type": "code",
   "execution_count": null,
   "metadata": {},
   "outputs": [],
   "source": []
  },
  {
   "cell_type": "code",
   "execution_count": null,
   "metadata": {},
   "outputs": [],
   "source": []
  },
  {
   "cell_type": "markdown",
   "metadata": {},
   "source": [
    "不定长差数的装饰器"
   ]
  },
  {
   "cell_type": "code",
   "execution_count": null,
   "metadata": {},
   "outputs": [],
   "source": [
    "\"\"\"钩子：\n",
    "写三个一面：A,B,C\n",
    "去检测ip是否频繁访问，如果是则不予访问返回404\n",
    "5秒之内访问自加1\"\"\"\n",
    "\n"
   ]
  },
  {
   "cell_type": "code",
   "execution_count": 5,
   "metadata": {},
   "outputs": [
    {
     "name": "stdout",
     "output_type": "stream",
     "text": [
      "0\n",
      "页面详情\n",
      "1\n",
      "页面详情\n",
      "2\n",
      "页面详情\n",
      "3\n",
      "页面详情\n",
      "4\n",
      "页面详情\n",
      "5\n",
      "404\n",
      "6\n",
      "404\n",
      "7\n",
      "404\n",
      "8\n",
      "404\n",
      "9\n",
      "404\n",
      "10\n",
      "404\n",
      "11\n",
      "404\n",
      "12\n",
      "404\n",
      "13\n",
      "404\n",
      "14\n",
      "404\n",
      "15\n",
      "404\n",
      "16\n",
      "404\n",
      "17\n",
      "404\n",
      "18\n",
      "404\n",
      "19\n",
      "404\n"
     ]
    }
   ],
   "source": [
    "def count(func):\n",
    "    def warp(*args,**kwargs):\n",
    "        num=kwargs['num']\n",
    "        print(num)\n",
    "        if num > 4:\n",
    "            print(\"404\")\n",
    "        else:\n",
    "            return func(*args,**kwargs)\n",
    "    return warp\n",
    "@count\n",
    "def Page_1(num):\n",
    "    print(\"页面详情\")\n",
    "\n",
    "if __name__=='__main__':\n",
    "    for i in range(20):\n",
    "        Page_1(num=i)"
   ]
  },
  {
   "cell_type": "code",
   "execution_count": null,
   "metadata": {},
   "outputs": [],
   "source": []
  },
  {
   "cell_type": "code",
   "execution_count": null,
   "metadata": {},
   "outputs": [],
   "source": []
  }
 ],
 "metadata": {
  "kernelspec": {
   "display_name": "Python 3",
   "language": "python",
   "name": "python3"
  },
  "language_info": {
   "codemirror_mode": {
    "name": "ipython",
    "version": 3
   },
   "file_extension": ".py",
   "mimetype": "text/x-python",
   "name": "python",
   "nbconvert_exporter": "python",
   "pygments_lexer": "ipython3",
   "version": "3.6.4"
  }
 },
 "nbformat": 4,
 "nbformat_minor": 2
}
