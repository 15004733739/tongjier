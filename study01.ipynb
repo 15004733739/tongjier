{
 "cells": [
  {
   "cell_type": "markdown",
   "metadata": {},
   "source": [
    "输入两个数字，打印这两个数的和差积"
   ]
  },
  {
   "cell_type": "code",
   "execution_count": 7,
   "metadata": {},
   "outputs": [
    {
     "name": "stdout",
     "output_type": "stream",
     "text": [
      "5 -1 6 0.6666666666666666\n"
     ]
    },
    {
     "data": {
      "text/plain": [
       "<__main__.student at 0x215dffca4e0>"
      ]
     },
     "execution_count": 7,
     "metadata": {},
     "output_type": "execute_result"
    }
   ],
   "source": [
    "class student(object):\n",
    "    def __init__(self,a,b):\n",
    "        print(a+b,a-b,a*b,a/b)\n",
    "student(2,3)"
   ]
  },
  {
   "cell_type": "markdown",
   "metadata": {},
   "source": [
    "判断输入一个年龄，如果大于等于18岁，可以观看爱情动作片，如果小于18岁只能看动画片"
   ]
  },
  {
   "cell_type": "code",
   "execution_count": 9,
   "metadata": {},
   "outputs": [
    {
     "name": "stdout",
     "output_type": "stream",
     "text": [
      "您可以观看岛国爱情动作片\n"
     ]
    },
    {
     "data": {
      "text/plain": [
       "<__main__.Age at 0x215dffd5208>"
      ]
     },
     "execution_count": 9,
     "metadata": {},
     "output_type": "execute_result"
    }
   ],
   "source": [
    "class Age(object):\n",
    "    def __init__(self,a):\n",
    "        if a>=18:\n",
    "            print(\"您可以观看岛国爱情动作片\")\n",
    "        else:\n",
    "                print(\"您只能观看动画片\")\n",
    "Age(18)"
   ]
  },
  {
   "cell_type": "code",
   "execution_count": 11,
   "metadata": {},
   "outputs": [
    {
     "name": "stdout",
     "output_type": "stream",
     "text": [
      "您只能观看动画片\n"
     ]
    },
    {
     "data": {
      "text/plain": [
       "<__main__.Age at 0x215dffb6eb8>"
      ]
     },
     "execution_count": 11,
     "metadata": {},
     "output_type": "execute_result"
    }
   ],
   "source": [
    "class Age(object):\n",
    "    def __init__(self,a):\n",
    "        if 18<a<20:\n",
    "            print(\"您可以观看岛国爱情动作片\")\n",
    "        elif a>40:\n",
    "            print(\"算了吧\")\n",
    "        else:\n",
    "             print(\"您只能观看动画片\")\n",
    "Age(18)"
   ]
  },
  {
   "cell_type": "markdown",
   "metadata": {},
   "source": []
  },
  {
   "cell_type": "code",
   "execution_count": 35,
   "metadata": {},
   "outputs": [
    {
     "name": "stdout",
     "output_type": "stream",
     "text": [
      "青年\n",
      "女\n"
     ]
    }
   ],
   "source": [
    "class information(object):\n",
    "    def __init__(self,age,sex):\n",
    "        self.age=age\n",
    "        self.sex=sex\n",
    "    def func1(self):\n",
    "        if self.age<=18:\n",
    "            print(\"青年\")\n",
    "        elif 18<self.age<40:\n",
    "            print(\"中年\")\n",
    "        else:\n",
    "            print(\"老年\")\n",
    "    def func2(self):\n",
    "        if self.sex==0:\n",
    "            print(\"男\")\n",
    "        elif self.sex==1:\n",
    "            print(\"女\")\n",
    "        else:\n",
    "            print(\"未知\")\n",
    "name = information(18,1)\n",
    "name.func1()\n",
    "name.func2()"
   ]
  },
  {
   "cell_type": "markdown",
   "metadata": {},
   "source": [
    "判断一个数字是不是素数，\n",
    "for xxx:\n",
    "    ...\n",
    "else:\n",
    "    ...\n",
    " 当for循环能够顺利执行"
   ]
  },
  {
   "cell_type": "code",
   "execution_count": 44,
   "metadata": {},
   "outputs": [
    {
     "name": "stdout",
     "output_type": "stream",
     "text": [
      "该数不是素数\n"
     ]
    },
    {
     "data": {
      "text/plain": [
       "<__main__.Panduan at 0x215e006f588>"
      ]
     },
     "execution_count": 44,
     "metadata": {},
     "output_type": "execute_result"
    }
   ],
   "source": [
    "class Panduan(object):\n",
    "    def __init__(self,a):\n",
    "        for i in range(2,a):\n",
    "            if a%i==0:\n",
    "                print(\"该数不是素数\")\n",
    "                break\n",
    "        else:\n",
    "            print(\"该数是素数\")\n",
    "              \n",
    "Panduan(9)"
   ]
  },
  {
   "cell_type": "code",
   "execution_count": 49,
   "metadata": {},
   "outputs": [
    {
     "name": "stdout",
     "output_type": "stream",
     "text": [
      "该数不是素数\n"
     ]
    }
   ],
   "source": [
    "class Panduan(object):\n",
    "    def __init__(self,a):\n",
    "        self.a=a\n",
    "    def Check(self):\n",
    "        for i in range(2,self.a):\n",
    "            if self.a%i==0:\n",
    "                print(\"该数不是素数\")\n",
    "                break\n",
    "        else:\n",
    "            print(\"该数是素数\")\n",
    "              \n",
    "panduan = Panduan(9)\n",
    "panduan.Check()"
   ]
  },
  {
   "cell_type": "code",
   "execution_count": null,
   "metadata": {},
   "outputs": [],
   "source": []
  },
  {
   "cell_type": "code",
   "execution_count": 1,
   "metadata": {},
   "outputs": [
    {
     "name": "stdout",
     "output_type": "stream",
     "text": [
      "输入“对战”即可进行人机对战\n",
      "在此输入对战\n",
      "对战\n"
     ]
    }
   ],
   "source": [
    "def dianji():\n",
    "    print(\"输入“对战”即可进行人机对战\")\n",
    "    res = input(\"在此输入\")\n",
    "dianji()"
   ]
  },
  {
   "cell_type": "code",
   "execution_count": 24,
   "metadata": {},
   "outputs": [
    {
     "name": "stdout",
     "output_type": "stream",
     "text": [
      "请选择你所要使用的英雄:后裔、大乔、典韦\n",
      "您选择的英雄是：啦啦\n",
      "您未拥有该英雄，无法查询该信息\n"
     ]
    }
   ],
   "source": [
    "def renwu():\n",
    "    print(\"请选择你所要使用的英雄:后裔、大乔、典韦\")\n",
    "    hero = input(\"您选择的英雄是：\")\n",
    "    if hero==\"大乔\":\n",
    "        print(hero+\" 战斗力：5000，防御力1000\")\n",
    "    elif hero==\"后裔\":\n",
    "        print(hero+\" 战斗力：10000，防御力8000\")\n",
    "    elif hero==\"典韦\":\n",
    "        print(hero+\" 战斗力：90000，防御力8000\")\n",
    "    else:\n",
    "        print(\"您未拥有该英雄，无法查询该信息\")\n",
    "renwu()\n",
    "    "
   ]
  },
  {
   "cell_type": "code",
   "execution_count": 25,
   "metadata": {},
   "outputs": [
    {
     "name": "stdout",
     "output_type": "stream",
     "text": [
      "你所匹配的英雄是：典韦 战斗力：60000，防御力8000\n"
     ]
    }
   ],
   "source": [
    "import numpy as np\n",
    "hero2 = np.random.choice([\"典韦\",\"小乔\",\"荆轲\",\"嬴政\"])\n",
    "if hero2==\"大乔\":\n",
    "    print(\"你所匹配的英雄是：\"+hero2+\" 战斗力：4200，防御力1000\")\n",
    "elif hero2==\"后裔\":\n",
    "    print(\"你所匹配的英雄是：\"+hero2+\" 战斗力：10000，防御力3000\")\n",
    "elif hero2==\"典韦\":\n",
    "    print(\"你所匹配的英雄是：\"+hero2+\" 战斗力：60000，防御力8000\")\n",
    "else:\n",
    "    print(\"你所匹配的英雄是：\"+hero2+\" 战斗力：70000，防御力8000\")\n"
   ]
  },
  {
   "cell_type": "code",
   "execution_count": 32,
   "metadata": {},
   "outputs": [
    {
     "name": "stdout",
     "output_type": "stream",
     "text": [
      "输入“come on”即可开始游戏\n",
      "在此输入come on\n"
     ]
    }
   ],
   "source": [
    "def start():\n",
    "    print(\"输入“come on”即可开始游戏\")\n",
    "    res = input(\"在此输入\")\n",
    "start()"
   ]
  },
  {
   "cell_type": "code",
   "execution_count": 9,
   "metadata": {},
   "outputs": [
    {
     "name": "stdout",
     "output_type": "stream",
     "text": [
      "输入“对战”即可进行人机对战\n",
      "在此输入对战\n",
      "请选择你所要使用的英雄:后裔、大乔、典韦\n",
      "您选择的英雄是：大乔\n",
      "大乔 战斗力：5000，防御力1000\n",
      "你所匹配的英雄是：小乔 战斗力：70000，防御力8000\n",
      "输入“come on”即可开始游戏\n",
      "在此输入come on\n",
      "正在加载游戏页面\n"
     ]
    },
    {
     "data": {
      "text/plain": [
       "<__main__.wangzhe at 0x1b8cf6f9588>"
      ]
     },
     "execution_count": 9,
     "metadata": {},
     "output_type": "execute_result"
    }
   ],
   "source": [
    "import numpy as np\n",
    "class wangzhe(object):\n",
    "    print(\"输入“对战”即可进行人机对战\")\n",
    "    res = input(\"在此输入\")\n",
    "    if res==\"对战\":\n",
    "        def renwu():\n",
    "            print(\"请选择你所要使用的英雄:后裔、大乔、典韦\")\n",
    "            hero = input(\"您选择的英雄是：\")\n",
    "            if hero==\"大乔\":\n",
    "                print(hero+\" 战斗力：5000，防御力1000\")\n",
    "            elif hero==\"后裔\":\n",
    "                print(hero+\" 战斗力：10000，防御力8000\")\n",
    "            elif hero==\"典韦\":\n",
    "                print(hero+\" 战斗力：90000，防御力8000\")\n",
    "            else:\n",
    "                print(\"您未拥有该英雄，无法查询该信息\")\n",
    "            hero2 = np.random.choice([\"典韦\",\"小乔\",\"荆轲\",\"嬴政\"])\n",
    "            if hero2==\"大乔\":\n",
    "                print(\"你所匹配的英雄是：\"+hero2+\" 战斗力：4200，防御力1000\")\n",
    "            elif hero2==\"后裔\":\n",
    "                print(\"你所匹配的英雄是：\"+hero2+\" 战斗力：10000，防御力3000\")\n",
    "            elif hero2==\"典韦\":\n",
    "                 print(\"你所匹配的英雄是：\"+hero2+\" 战斗力：60000，防御力8000\")\n",
    "            else:\n",
    "                print(\"你所匹配的英雄是：\"+hero2+\" 战斗力：70000，防御力8000\")\n",
    "            print(\"输入“come on”即可开始游戏\")\n",
    "            res = input(\"在此输入\")\n",
    "            if res==\"come on\":\n",
    "                 print(\"正在加载游戏页面\")\n",
    "            else:\n",
    "                 print(\"输入有误，需要重新输入哦~\")\n",
    "        renwu()\n",
    "    else:\n",
    "        print(\"您的输入有误\")\n",
    "wangzhe()"
   ]
  },
  {
   "cell_type": "code",
   "execution_count": null,
   "metadata": {},
   "outputs": [],
   "source": []
  },
  {
   "cell_type": "code",
   "execution_count": null,
   "metadata": {},
   "outputs": [],
   "source": []
  }
 ],
 "metadata": {
  "kernelspec": {
   "display_name": "Python 3",
   "language": "python",
   "name": "python3"
  },
  "language_info": {
   "codemirror_mode": {
    "name": "ipython",
    "version": 3
   },
   "file_extension": ".py",
   "mimetype": "text/x-python",
   "name": "python",
   "nbconvert_exporter": "python",
   "pygments_lexer": "ipython3",
   "version": "3.6.4"
  }
 },
 "nbformat": 4,
 "nbformat_minor": 2
}
