{
 "cells": [
  {
   "cell_type": "code",
   "execution_count": null,
   "metadata": {},
   "outputs": [],
   "source": [
    "class leige():\n",
    "    def __init__(self):\n",
    "        self.a = '磊哥'   #用self过度\n",
    "    def show(self):\n",
    "        print(self.a)"
   ]
  },
  {
   "cell_type": "code",
   "execution_count": null,
   "metadata": {},
   "outputs": [],
   "source": [
    "leige().show()"
   ]
  },
  {
   "cell_type": "code",
   "execution_count": 5,
   "metadata": {},
   "outputs": [
    {
     "name": "stdout",
     "output_type": "stream",
     "text": [
      "王子\n"
     ]
    }
   ],
   "source": [
    "wangzi().show()"
   ]
  },
  {
   "cell_type": "code",
   "execution_count": 4,
   "metadata": {},
   "outputs": [],
   "source": [
    "class wangzi():\n",
    "    def __init__(self):\n",
    "        self.b ='王子'\n",
    "    def show(self):\n",
    "        print(self.b)"
   ]
  },
  {
   "cell_type": "code",
   "execution_count": 15,
   "metadata": {},
   "outputs": [],
   "source": [
    "class leige(wangzi):\n",
    "    '''leige要继承wangzi'''\n",
    "    def __init__(self):\n",
    "        wangzi.__init__(self)\n",
    "        '''告诉王子我（磊哥）要继承他'''\n",
    "        self.a ='磊哥'\n",
    "    def show(self):\n",
    "        print(self.a)\n",
    "        print(self.b)"
   ]
  },
  {
   "cell_type": "code",
   "execution_count": 16,
   "metadata": {},
   "outputs": [
    {
     "name": "stdout",
     "output_type": "stream",
     "text": [
      "磊哥\n",
      "王子\n"
     ]
    }
   ],
   "source": [
    "leige().show()"
   ]
  },
  {
   "cell_type": "code",
   "execution_count": null,
   "metadata": {},
   "outputs": [],
   "source": [
    "def genter():\n",
    "    file_path='C:/Users/lenovoDesktop/kaifangX.txt'\n",
    "      swith open(file_path,'r',encoding='gbk',errors='ignore')as f\n",
    "        \n",
    "        "
   ]
  },
  {
   "cell_type": "code",
   "execution_count": null,
   "metadata": {},
   "outputs": [],
   "source": []
  },
  {
   "cell_type": "code",
   "execution_count": 1,
   "metadata": {},
   "outputs": [
    {
     "ename": "SyntaxError",
     "evalue": "invalid character in identifier (<ipython-input-1-d9ec29a52b0b>, line 8)",
     "output_type": "error",
     "traceback": [
      "\u001b[1;36m  File \u001b[1;32m\"<ipython-input-1-d9ec29a52b0b>\"\u001b[1;36m, line \u001b[1;32m8\u001b[0m\n\u001b[1;33m    else：\u001b[0m\n\u001b[1;37m        ^\u001b[0m\n\u001b[1;31mSyntaxError\u001b[0m\u001b[1;31m:\u001b[0m invalid character in identifier\n"
     ]
    }
   ],
   "source": [
    "Tempstr=input('请输入带符号的温度值：')\n",
    "if Tempstr[-1] in ['F','f']:\n",
    "    c = (eval(Tempstr[0:-1])-32)/1.8\n",
    "    print ('转换后的温度是{:.2f}c'.format(c))\n",
    "elif Tempstr [-1] in ['C','c']:\n",
    "    F = 1.8*eval(Tempstr[0:-1])+32\n",
    "    print ('转换后的温度是{:.2f}F'.format(F))\n",
    "else：\n",
    "    print('输入格式错误')"
   ]
  },
  {
   "cell_type": "code",
   "execution_count": null,
   "metadata": {},
   "outputs": [],
   "source": []
  }
 ],
 "metadata": {
  "kernelspec": {
   "display_name": "Python 3",
   "language": "python",
   "name": "python3"
  },
  "language_info": {
   "codemirror_mode": {
    "name": "ipython",
    "version": 3
   },
   "file_extension": ".py",
   "mimetype": "text/x-python",
   "name": "python",
   "nbconvert_exporter": "python",
   "pygments_lexer": "ipython3",
   "version": "3.6.4"
  }
 },
 "nbformat": 4,
 "nbformat_minor": 2
}
