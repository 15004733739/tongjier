{
 "cells": [
  {
   "cell_type": "markdown",
   "metadata": {},
   "source": [
    "if __name__ == \"__main__\":可以看成是python程序的入口，就像java中的main（）方法，但不完全正确。\n",
    "事实上python程序是从上而下逐行运行的，在.py文件中，除了def后定义函数外的代码都会被认为是“main”方法中的内容从上而下执行。如果只是写个伟大的\"hello world\"，不想写函数的话，仅仅是print('hello world')就可以，这就是一个“程序”，不需要所谓的“main”方法入口。当然如果是测试函数功能就需要在.py文件中写上if __name__ == \"__main__\"，再调用函数。比如如下hello.py文件："
   ]
  },
  {
   "cell_type": "code",
   "execution_count": null,
   "metadata": {},
   "outputs": [],
   "source": [
    "print(\"first\")\n",
    " \n",
    " \n",
    "def sayHello():\n",
    "    str = \"hello\"\n",
    "    print(str);\n",
    "    print(__name__+'from hello.sayhello()')\n",
    " \n",
    " \n",
    "if __name__ == \"__main__\":\n",
    "    print ('This is main of module \"hello.py\"')\n",
    "    sayHello()\n",
    "    print(__name__+'from hello.main')\n",
    "    \n",
    "    \n",
    "    \n",
    "'''运行结果：\n",
    "\n",
    "first\n",
    "This is main of module \"hello.py\"\n",
    "hello\n",
    "__main__ from hello.sayhello()\n",
    "__main__ from hello.main'''"
   ]
  },
  {
   "cell_type": "markdown",
   "metadata": {},
   "source": [
    "\n",
    "懂我意思吧？先执行的第一行print再执行“入口”中的东西\n",
    "话说回来，if __name__ == \"__main__\"这句话是个什么意思呢？\n",
    "__name__其实是一个内置属性，指示当前py文件调用方式的方法。当上述例子运行的时候，整个程序中不管是哪个位置的__name__属性，值都是__main__,当这个hello.py文件作为模块被导入到另一个.py文件中（即import）比如说world.py，并且你运行的是world.py，此时hello.py中的__name__属性就会变成hello，所谓的入口因为if判断失败就不执行了\n",
    "所以if语句的判断成功虚拟了一个main（）方法。\n",
    "说到了phthon是逐行执行的，所以当它读到import hello的时候，也会执行hello.py，比如运行如下world.py文件：\n"
   ]
  },
  {
   "cell_type": "code",
   "execution_count": null,
   "metadata": {},
   "outputs": [],
   "source": [
    "import hello#上一个例子的hello.py\n",
    " \n",
    "if __name__ == \"__main__\":\n",
    "    print ('This is main of module \"world.py\"')\n",
    "    hello.sayHello()\n",
    "    print(__name__)\n",
    "    \n",
    "    \n",
    "    \n",
    "'''执行结果：\n",
    " \n",
    "\n",
    "first\n",
    "This is main of module \"world.py\"\n",
    "hello\n",
    "hellofrom hello.sayhello()\n",
    "__main__'''"
   ]
  },
  {
   "cell_type": "markdown",
   "metadata": {},
   "source": [
    "可以看到hello.py中的第一行print('first')直接被执行了，并且hello.py中的__name__输出的也是hello，world.py中的name输出的是__main__\n",
    "\n",
    "总结：要适应python没有main（）方法的特点。所谓的入口其实也就是个if条件语句，判断成功就执行一些代码，失败就跳过。没有java等其他语言中那样会有特定的内置函数去识别main()方法入口，在main()方法中从上而下执行"
   ]
  }
 ],
 "metadata": {
  "kernelspec": {
   "display_name": "Python 3",
   "language": "python",
   "name": "python3"
  },
  "language_info": {
   "codemirror_mode": {
    "name": "ipython",
    "version": 3
   },
   "file_extension": ".py",
   "mimetype": "text/x-python",
   "name": "python",
   "nbconvert_exporter": "python",
   "pygments_lexer": "ipython3",
   "version": "3.6.4"
  }
 },
 "nbformat": 4,
 "nbformat_minor": 2
}
